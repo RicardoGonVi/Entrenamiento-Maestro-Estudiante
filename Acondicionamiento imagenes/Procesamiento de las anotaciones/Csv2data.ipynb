{
 "cells": [
  {
   "cell_type": "code",
   "execution_count": 1,
   "metadata": {},
   "outputs": [],
   "source": [
    "import numpy as np\n",
    "import pandas as pd\n",
    "import cv2\n",
    "import os\n",
    "\n",
    "numcam_data = pd.read_csv(\"D:/TRABAJOS RICARDO/Semestre_13/PFG/Repositorio/manual_annotations/CAMERA.csv\", sep= \";\")\n",
    "position_data = pd.read_csv(\"D:/TRABAJOS RICARDO/Semestre_13/PFG/Repositorio/manual_annotations/DATA.csv\", sep= \";\")\n"
   ]
  },
  {
   "cell_type": "code",
   "execution_count": 2,
   "metadata": {},
   "outputs": [],
   "source": [
    "camara_days = []\n",
    "position_days = []\n",
    "\n",
    "# separando el contenido del dataset entre los 3 dias\n",
    "# primer día: 32 personas, segundo y tercero: 30 personas. Total 92 personas\n",
    "\n",
    "sub_arrays = np.split(np.transpose(position_data.values), [32*7,62*7])\n",
    "for i, _ in enumerate(sub_arrays):\n",
    "    position_days.append(np.transpose(sub_arrays[i]))\n",
    "\n",
    "sub_arrays = np.split(np.transpose(numcam_data.values), [32,62])\n",
    "for i, _ in enumerate(sub_arrays):\n",
    "    camara_days.append(np.transpose(sub_arrays[i]))\n",
    "\n",
    "#print(camara_days[2].shape)\n",
    "#print(position_days[2].shape)"
   ]
  },
  {
   "cell_type": "code",
   "execution_count": 3,
   "metadata": {},
   "outputs": [],
   "source": [
    "# direcciones de entradas y salidas\n",
    "input_url = \"D:/TRABAJOS RICARDO/Semestre_13/PFG/Github/Entrenamiento-Maestro-Estudiante/Acondicionamiento imagenes/Frames/Entradas\"\n",
    "output_url = \"D:/TRABAJOS RICARDO/Semestre_13/PFG/Github/Entrenamiento-Maestro-Estudiante/Acondicionamiento imagenes/Frames/Salidas/Day1/Cam1\"\n",
    "\n",
    "# funcion que imprime las etiquetas de los videos\n",
    "def process_dayx_camx_framex(day2process, cam2process):\n",
    "\n",
    "    # seleccionando el día (1,2 o 3)\n",
    "    day_cam_info = pd.DataFrame(camara_days[day2process-1])\n",
    "    day_position_info = pd.DataFrame(position_days[day2process-1])\n",
    "\n",
    "    # recorriendo los frames del día\n",
    "    for frame_num, frame_content in enumerate(day_cam_info.values):\n",
    "        \n",
    "        # salto entre frames a analizar\n",
    "        if frame_num % 20 == 0:\n",
    "            \n",
    "            # abriendo imagen del frame\n",
    "            img = cv2.imread(input_url + \"/Day\" + str(day2process) + \"/Cam\" + str(cam2process) + \"/frame{:05d}.png\".format(frame_num))\n",
    "\n",
    "            # obteniendo la posicion de las personas durante este frame\n",
    "            for actual_person, camara_num in enumerate(frame_content):\n",
    "                \n",
    "                # comparando si están en la cámara que interesa analizar\n",
    "                if camara_num == cam2process:\n",
    "                    \n",
    "                    # obteniendo la posicion de la persona\n",
    "                    positions = (day_position_info.values[frame_num,7*actual_person+1:7*actual_person+5])\n",
    "                    cv2.rectangle(img, (positions[0], positions[1]), (positions[2], positions[3]), (0, 255, 0), 2)\n",
    "                    # obteniendo la posicion de la persona\n",
    "\n",
    "            # dibujando la etiqueta\n",
    "            cv2.imwrite(os.path.join(output_url, 'frame{:05d}.png'.format(frame_num)), img)\n",
    "\n",
    "process_dayx_camx_framex(day2process=1, cam2process=1)"
   ]
  }
 ],
 "metadata": {
  "kernelspec": {
   "display_name": "Python 3",
   "language": "python",
   "name": "python3"
  },
  "language_info": {
   "codemirror_mode": {
    "name": "ipython",
    "version": 3
   },
   "file_extension": ".py",
   "mimetype": "text/x-python",
   "name": "python",
   "nbconvert_exporter": "python",
   "pygments_lexer": "ipython3",
   "version": "3.8.10"
  },
  "orig_nbformat": 4
 },
 "nbformat": 4,
 "nbformat_minor": 2
}
